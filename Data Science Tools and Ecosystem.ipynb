{
 "cells": [
  {
   "cell_type": "markdown",
   "id": "0cf0889b",
   "metadata": {},
   "source": [
    "# Data Science Tools and Ecosystem"
   ]
  },
  {
   "cell_type": "markdown",
   "id": "aae6e5a9",
   "metadata": {},
   "source": [
    "## Introduction\n",
    "\n",
    "In this notebook, Data Science Tools and Ecosystem are summarized."
   ]
  },
  {
   "cell_type": "markdown",
   "id": "1f0060f4",
   "metadata": {},
   "source": [
    "Some of the popular languages that Data Scientists use are:\n",
    "\n",
    "- Python\n",
    "- R\n",
    "- SQL\n",
    "- Julia\n",
    "- Scala"
   ]
  },
  {
   "cell_type": "markdown",
   "id": "345d4d14",
   "metadata": {},
   "source": [
    "Some of the commonly used libraries used by Data Scientists include:\n",
    "\n",
    "##### Python Libraries\n",
    "- Pandas\n",
    "- NumPy\n",
    "- Scikit-learn\n",
    "- TensorFlow\n",
    "- Matplotlib\n",
    "\n",
    "##### R Libraries\n",
    "- ggplot2\n",
    "- dplyr\n",
    "- caret\n",
    "- tidyr\n",
    "- shiny"
   ]
  },
  {
   "cell_type": "markdown",
   "id": "e32538d4",
   "metadata": {},
   "source": [
    "## Data Science Tools\n",
    "\n",
    "| Tool Name    | Type           | Description                                  |\n",
    "|--------------|----------------|----------------------------------------------|\n",
    "| Jupyter      | IDE/Notebook   | Interactive notebook for data science tasks. |\n",
    "| RStudio      | IDE            | Integrated development environment for R.    |\n",
    "| Tableau      | Visualization  | Tool for data visualization and analysis.    |\n",
    "| Apache Spark | Big Data       | Engine for large-scale data processing.      |\n",
    "| Git/GitHub   | Version Control| For code sharing and collaboration.          |\n"
   ]
  },
  {
   "cell_type": "markdown",
   "id": "8672c20c",
   "metadata": {},
   "source": [
    "Below are a few examples of evaluating arithmetic expressions in Python\n",
    "\n",
    "- Addition: `a + b`\n",
    "- Subtraction: `a - b`\n",
    "- Multiplication: `a * b`\n",
    "- Division: `a / b`\n",
    "- Exponentiation: `a ** b`"
   ]
  },
  {
   "cell_type": "code",
   "execution_count": 1,
   "id": "4d0312d4",
   "metadata": {},
   "outputs": [
    {
     "data": {
      "text/plain": [
       "17"
      ]
     },
     "execution_count": 1,
     "metadata": {},
     "output_type": "execute_result"
    }
   ],
   "source": [
    "(3*4)+5\n",
    "# This a simple arithmetic expression to mutiply then add integers"
   ]
  },
  {
   "cell_type": "code",
   "execution_count": 2,
   "id": "e42a846a",
   "metadata": {},
   "outputs": [
    {
     "name": "stdout",
     "output_type": "stream",
     "text": [
      "3.3333333333333335\n"
     ]
    }
   ],
   "source": [
    "minutes = 200\n",
    "\n",
    "# This will convert 200 minutes to hours by diving by 60\n",
    "\n",
    "hours = minutes / 60\n",
    "\n",
    "print(hours)"
   ]
  },
  {
   "cell_type": "markdown",
   "id": "b9bbba91",
   "metadata": {},
   "source": [
    "## Objectives:\n",
    "\n",
    "- Understand data science.\n",
    "- List libraries used by Data Scientists.\n",
    "- List Data Science tools.\n",
    "- Performing arithmetic operations."
   ]
  },
  {
   "cell_type": "markdown",
   "id": "33a94cbd",
   "metadata": {},
   "source": [
    "## Author\n",
    "\n",
    "Abdullah"
   ]
  }
 ],
 "metadata": {
  "kernelspec": {
   "display_name": "Python 3 (ipykernel)",
   "language": "python",
   "name": "python3"
  },
  "language_info": {
   "codemirror_mode": {
    "name": "ipython",
    "version": 3
   },
   "file_extension": ".py",
   "mimetype": "text/x-python",
   "name": "python",
   "nbconvert_exporter": "python",
   "pygments_lexer": "ipython3",
   "version": "3.11.5"
  }
 },
 "nbformat": 4,
 "nbformat_minor": 5
}
